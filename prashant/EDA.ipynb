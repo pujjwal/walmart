{
 "cells": [
  {
   "cell_type": "code",
   "execution_count": 97,
   "metadata": {},
   "outputs": [],
   "source": [
    "import pandas as pd\n",
    "import numpy as np\n",
    "from pandas.api.types import is_numeric_dtype\n",
    "pd.options.display.float_format = '{:.2f}'.format"
   ]
  },
  {
   "cell_type": "code",
   "execution_count": 98,
   "metadata": {},
   "outputs": [
    {
     "name": "stdout",
     "output_type": "stream",
     "text": [
      "total 88\r\n",
      "drwxr-xr-x  6 prashau  ANT\\Domain Users    204 Mar  5 07:48 \u001b[34mdata\u001b[m\u001b[m\r\n",
      "-rw-r--r--  1 prashau  ANT\\Domain Users  43470 Mar  6 13:35 EDA.ipynb\r\n"
     ]
    }
   ],
   "source": [
    "!ls -ltr"
   ]
  },
  {
   "cell_type": "code",
   "execution_count": 99,
   "metadata": {},
   "outputs": [
    {
     "name": "stdout",
     "output_type": "stream",
     "text": [
      "/Users/prashau/kaggle/walmart\r\n"
     ]
    }
   ],
   "source": [
    "!pwd"
   ]
  },
  {
   "cell_type": "code",
   "execution_count": 100,
   "metadata": {},
   "outputs": [],
   "source": [
    "df_old = pd.read_csv(\"data/old/pos_data.csv\",low_memory=False,parse_dates=[\"visit_date\"])"
   ]
  },
  {
   "cell_type": "code",
   "execution_count": 101,
   "metadata": {},
   "outputs": [],
   "source": [
    "df_new = pd.read_csv(\"data/new/pos_data.csv\",low_memory=False,parse_dates=[\"visit_date\"])"
   ]
  },
  {
   "cell_type": "code",
   "execution_count": 286,
   "metadata": {},
   "outputs": [],
   "source": [
    "add_ups_df = pd.read_csv(\"data/addList.csv\")\n",
    "delete_ups_df = pd.read_csv(\"data/deleteList.csv\")\n",
    "add_ups_df.rename(columns={'Addition_list':'upc'},inplace=True)\n",
    "delete_ups_df.rename(columns={'Delete_List':'upc'},inplace=True)"
   ]
  },
  {
   "cell_type": "code",
   "execution_count": 287,
   "metadata": {},
   "outputs": [],
   "source": [
    "df_old[\"category\"] = 1\n",
    "df_new[\"category\"] = 2"
   ]
  },
  {
   "cell_type": "code",
   "execution_count": 288,
   "metadata": {
    "scrolled": true
   },
   "outputs": [],
   "source": [
    "data_array = []\n",
    "data_array.append(df_old)\n",
    "data_array.append(df_new)"
   ]
  },
  {
   "cell_type": "code",
   "execution_count": 289,
   "metadata": {},
   "outputs": [
    {
     "data": {
      "text/plain": [
       "Index(['store_nbr', 'visit_nbr', 'visit_date', 'wm_year_wk_nbr', 'upc_nbr',\n",
       "       'scan_id', 'rollup_id', 'fineline_nbr', 'dept_subcategory_nbr',\n",
       "       'household_id', 'brand_name', 'unit_qty', 'retail_price', 'category'],\n",
       "      dtype='object')"
      ]
     },
     "execution_count": 289,
     "metadata": {},
     "output_type": "execute_result"
    }
   ],
   "source": [
    "df_mpos_data = pd.concat(data_array)\n",
    "df_mpos_data.columns\n",
    "df_mpos_data.dept_subcategory_nbr.unique().size\n",
    "\n",
    "df_mpos_data.columns"
   ]
  },
  {
   "cell_type": "code",
   "execution_count": 290,
   "metadata": {},
   "outputs": [],
   "source": [
    "df_mpos_data.sort_values(\"wm_year_wk_nbr\",ascending=True,inplace=True)"
   ]
  },
  {
   "cell_type": "code",
   "execution_count": 291,
   "metadata": {},
   "outputs": [
    {
     "name": "stdout",
     "output_type": "stream",
     "text": [
      "upc_nbr                 3675625\n",
      "dept_subcategory_nbr    3675625\n",
      "brand_name              3675625\n",
      "dtype: int64\n"
     ]
    },
    {
     "data": {
      "text/html": [
       "<div>\n",
       "<style scoped>\n",
       "    .dataframe tbody tr th:only-of-type {\n",
       "        vertical-align: middle;\n",
       "    }\n",
       "\n",
       "    .dataframe tbody tr th {\n",
       "        vertical-align: top;\n",
       "    }\n",
       "\n",
       "    .dataframe thead th {\n",
       "        text-align: right;\n",
       "    }\n",
       "</style>\n",
       "<table border=\"1\" class=\"dataframe\">\n",
       "  <thead>\n",
       "    <tr style=\"text-align: right;\">\n",
       "      <th></th>\n",
       "      <th>upc_nbr</th>\n",
       "      <th>dept_subcategory_nbr</th>\n",
       "      <th>brand_name</th>\n",
       "    </tr>\n",
       "  </thead>\n",
       "  <tbody>\n",
       "    <tr>\n",
       "      <th>793712</th>\n",
       "      <td>2122</td>\n",
       "      <td>sub_A</td>\n",
       "      <td>BRAND_X</td>\n",
       "    </tr>\n",
       "    <tr>\n",
       "      <th>719660</th>\n",
       "      <td>2131</td>\n",
       "      <td>sub_A</td>\n",
       "      <td>BRAND_X</td>\n",
       "    </tr>\n",
       "    <tr>\n",
       "      <th>719661</th>\n",
       "      <td>2131</td>\n",
       "      <td>sub_A</td>\n",
       "      <td>BRAND_X</td>\n",
       "    </tr>\n",
       "    <tr>\n",
       "      <th>719662</th>\n",
       "      <td>2131</td>\n",
       "      <td>sub_A</td>\n",
       "      <td>BRAND_X</td>\n",
       "    </tr>\n",
       "    <tr>\n",
       "      <th>719663</th>\n",
       "      <td>2131</td>\n",
       "      <td>sub_A</td>\n",
       "      <td>BRAND_X</td>\n",
       "    </tr>\n",
       "  </tbody>\n",
       "</table>\n",
       "</div>"
      ],
      "text/plain": [
       "        upc_nbr dept_subcategory_nbr brand_name\n",
       "793712     2122                sub_A    BRAND_X\n",
       "719660     2131                sub_A    BRAND_X\n",
       "719661     2131                sub_A    BRAND_X\n",
       "719662     2131                sub_A    BRAND_X\n",
       "719663     2131                sub_A    BRAND_X"
      ]
     },
     "execution_count": 291,
     "metadata": {},
     "output_type": "execute_result"
    }
   ],
   "source": [
    "print(df_mpos_data[[\"upc_nbr\",\"dept_subcategory_nbr\",\"brand_name\"]].count())\n",
    "df_mpos_data[[\"upc_nbr\",\"dept_subcategory_nbr\",\"brand_name\"]].head(5)"
   ]
  },
  {
   "cell_type": "code",
   "execution_count": 292,
   "metadata": {},
   "outputs": [
    {
     "name": "stdout",
     "output_type": "stream",
     "text": [
      "upc              91\n",
      "Mod Drop Week    91\n",
      "category         91\n",
      "dtype: int64\n"
     ]
    },
    {
     "data": {
      "text/html": [
       "<div>\n",
       "<style scoped>\n",
       "    .dataframe tbody tr th:only-of-type {\n",
       "        vertical-align: middle;\n",
       "    }\n",
       "\n",
       "    .dataframe tbody tr th {\n",
       "        vertical-align: top;\n",
       "    }\n",
       "\n",
       "    .dataframe thead th {\n",
       "        text-align: right;\n",
       "    }\n",
       "</style>\n",
       "<table border=\"1\" class=\"dataframe\">\n",
       "  <thead>\n",
       "    <tr style=\"text-align: right;\">\n",
       "      <th></th>\n",
       "      <th>upc</th>\n",
       "      <th>Mod Drop Week</th>\n",
       "      <th>category</th>\n",
       "    </tr>\n",
       "  </thead>\n",
       "  <tbody>\n",
       "    <tr>\n",
       "      <th>0</th>\n",
       "      <td>100462</td>\n",
       "      <td>201717</td>\n",
       "      <td>2</td>\n",
       "    </tr>\n",
       "    <tr>\n",
       "      <th>1</th>\n",
       "      <td>100463</td>\n",
       "      <td>201717</td>\n",
       "      <td>2</td>\n",
       "    </tr>\n",
       "    <tr>\n",
       "      <th>2</th>\n",
       "      <td>100464</td>\n",
       "      <td>201717</td>\n",
       "      <td>2</td>\n",
       "    </tr>\n",
       "    <tr>\n",
       "      <th>3</th>\n",
       "      <td>100465</td>\n",
       "      <td>201717</td>\n",
       "      <td>2</td>\n",
       "    </tr>\n",
       "    <tr>\n",
       "      <th>4</th>\n",
       "      <td>100466</td>\n",
       "      <td>201717</td>\n",
       "      <td>2</td>\n",
       "    </tr>\n",
       "  </tbody>\n",
       "</table>\n",
       "</div>"
      ],
      "text/plain": [
       "      upc  Mod Drop Week  category\n",
       "0  100462         201717         2\n",
       "1  100463         201717         2\n",
       "2  100464         201717         2\n",
       "3  100465         201717         2\n",
       "4  100466         201717         2"
      ]
     },
     "execution_count": 292,
     "metadata": {},
     "output_type": "execute_result"
    }
   ],
   "source": [
    "print(add_ups_df.count())\n",
    "add_ups_df.head()"
   ]
  },
  {
   "cell_type": "code",
   "execution_count": 293,
   "metadata": {},
   "outputs": [
    {
     "name": "stdout",
     "output_type": "stream",
     "text": [
      "upc              22\n",
      "Mod Drop Week    22\n",
      "category         22\n",
      "dtype: int64\n"
     ]
    },
    {
     "data": {
      "text/html": [
       "<div>\n",
       "<style scoped>\n",
       "    .dataframe tbody tr th:only-of-type {\n",
       "        vertical-align: middle;\n",
       "    }\n",
       "\n",
       "    .dataframe tbody tr th {\n",
       "        vertical-align: top;\n",
       "    }\n",
       "\n",
       "    .dataframe thead th {\n",
       "        text-align: right;\n",
       "    }\n",
       "</style>\n",
       "<table border=\"1\" class=\"dataframe\">\n",
       "  <thead>\n",
       "    <tr style=\"text-align: right;\">\n",
       "      <th></th>\n",
       "      <th>upc</th>\n",
       "      <th>Mod Drop Week</th>\n",
       "      <th>category</th>\n",
       "    </tr>\n",
       "  </thead>\n",
       "  <tbody>\n",
       "    <tr>\n",
       "      <th>0</th>\n",
       "      <td>100049</td>\n",
       "      <td>201717</td>\n",
       "      <td>2</td>\n",
       "    </tr>\n",
       "    <tr>\n",
       "      <th>1</th>\n",
       "      <td>100057</td>\n",
       "      <td>201717</td>\n",
       "      <td>2</td>\n",
       "    </tr>\n",
       "    <tr>\n",
       "      <th>2</th>\n",
       "      <td>100098</td>\n",
       "      <td>201717</td>\n",
       "      <td>2</td>\n",
       "    </tr>\n",
       "    <tr>\n",
       "      <th>3</th>\n",
       "      <td>100113</td>\n",
       "      <td>201717</td>\n",
       "      <td>2</td>\n",
       "    </tr>\n",
       "    <tr>\n",
       "      <th>4</th>\n",
       "      <td>100114</td>\n",
       "      <td>201717</td>\n",
       "      <td>2</td>\n",
       "    </tr>\n",
       "  </tbody>\n",
       "</table>\n",
       "</div>"
      ],
      "text/plain": [
       "      upc  Mod Drop Week  category\n",
       "0  100049         201717         2\n",
       "1  100057         201717         2\n",
       "2  100098         201717         2\n",
       "3  100113         201717         2\n",
       "4  100114         201717         2"
      ]
     },
     "execution_count": 293,
     "metadata": {},
     "output_type": "execute_result"
    }
   ],
   "source": [
    "print(delete_ups_df.count())\n",
    "delete_ups_df.head()"
   ]
  },
  {
   "cell_type": "code",
   "execution_count": 296,
   "metadata": {},
   "outputs": [],
   "source": [
    "add_merge = add_ups_df.merge(df_mpos_data[[\"upc_nbr\",\"dept_subcategory_nbr\",\"fineline_nbr\",\"rollup_id\"]].drop_duplicates(),left_on=\"upc\",right_on=\"upc_nbr\")\n"
   ]
  },
  {
   "cell_type": "code",
   "execution_count": 297,
   "metadata": {},
   "outputs": [],
   "source": [
    "delete_merge = delete_ups_df.merge(df_mpos_data[[\"upc_nbr\",\"dept_subcategory_nbr\",\"fineline_nbr\",\"rollup_id\"]].drop_duplicates(),left_on=\"upc\",right_on=\"upc_nbr\")\n"
   ]
  },
  {
   "cell_type": "code",
   "execution_count": 298,
   "metadata": {},
   "outputs": [
    {
     "name": "stdout",
     "output_type": "stream",
     "text": [
      "upc                     91\n",
      "Mod Drop Week           91\n",
      "category                91\n",
      "upc_nbr                 91\n",
      "dept_subcategory_nbr    91\n",
      "fineline_nbr            91\n",
      "rollup_id               91\n",
      "dtype: int64\n"
     ]
    },
    {
     "data": {
      "text/plain": [
       "array(['subcat_4', 'subcat_6'], dtype=object)"
      ]
     },
     "execution_count": 298,
     "metadata": {},
     "output_type": "execute_result"
    }
   ],
   "source": [
    "print(add_merge.count())\n",
    "add_merge.head(5)\n",
    "np.sort(add_merge.dept_subcategory_nbr.unique())\n"
   ]
  },
  {
   "cell_type": "code",
   "execution_count": 299,
   "metadata": {},
   "outputs": [
    {
     "name": "stdout",
     "output_type": "stream",
     "text": [
      "upc                     22\n",
      "Mod Drop Week           22\n",
      "category                22\n",
      "upc_nbr                 22\n",
      "dept_subcategory_nbr    22\n",
      "fineline_nbr            22\n",
      "rollup_id               22\n",
      "dtype: int64\n"
     ]
    },
    {
     "data": {
      "text/plain": [
       "3"
      ]
     },
     "execution_count": 299,
     "metadata": {},
     "output_type": "execute_result"
    }
   ],
   "source": [
    "print(delete_merge.count())\n",
    "delete_merge.head(5)\n",
    "np.sort(delete_merge.dept_subcategory_nbr.unique()).size\n"
   ]
  },
  {
   "cell_type": "code",
   "execution_count": 300,
   "metadata": {},
   "outputs": [
    {
     "data": {
      "text/html": [
       "<div>\n",
       "<style scoped>\n",
       "    .dataframe tbody tr th:only-of-type {\n",
       "        vertical-align: middle;\n",
       "    }\n",
       "\n",
       "    .dataframe tbody tr th {\n",
       "        vertical-align: top;\n",
       "    }\n",
       "\n",
       "    .dataframe thead th {\n",
       "        text-align: right;\n",
       "    }\n",
       "</style>\n",
       "<table border=\"1\" class=\"dataframe\">\n",
       "  <thead>\n",
       "    <tr style=\"text-align: right;\">\n",
       "      <th></th>\n",
       "      <th></th>\n",
       "      <th></th>\n",
       "      <th>upc</th>\n",
       "      <th>Mod Drop Week</th>\n",
       "      <th>upc_nbr</th>\n",
       "      <th>rollup_id</th>\n",
       "    </tr>\n",
       "    <tr>\n",
       "      <th>category</th>\n",
       "      <th>dept_subcategory_nbr</th>\n",
       "      <th>fineline_nbr</th>\n",
       "      <th></th>\n",
       "      <th></th>\n",
       "      <th></th>\n",
       "      <th></th>\n",
       "    </tr>\n",
       "  </thead>\n",
       "  <tbody>\n",
       "    <tr>\n",
       "      <th rowspan=\"6\" valign=\"top\">2</th>\n",
       "      <th rowspan=\"5\" valign=\"top\">subcat_4</th>\n",
       "      <th>fl_ 17</th>\n",
       "      <td>23</td>\n",
       "      <td>23</td>\n",
       "      <td>23</td>\n",
       "      <td>23</td>\n",
       "    </tr>\n",
       "    <tr>\n",
       "      <th>fl_ 18</th>\n",
       "      <td>33</td>\n",
       "      <td>33</td>\n",
       "      <td>33</td>\n",
       "      <td>33</td>\n",
       "    </tr>\n",
       "    <tr>\n",
       "      <th>fl_ 19</th>\n",
       "      <td>15</td>\n",
       "      <td>15</td>\n",
       "      <td>15</td>\n",
       "      <td>15</td>\n",
       "    </tr>\n",
       "    <tr>\n",
       "      <th>fl_ 20</th>\n",
       "      <td>3</td>\n",
       "      <td>3</td>\n",
       "      <td>3</td>\n",
       "      <td>3</td>\n",
       "    </tr>\n",
       "    <tr>\n",
       "      <th>fl_ 21</th>\n",
       "      <td>15</td>\n",
       "      <td>15</td>\n",
       "      <td>15</td>\n",
       "      <td>15</td>\n",
       "    </tr>\n",
       "    <tr>\n",
       "      <th>subcat_6</th>\n",
       "      <th>fl_ 14</th>\n",
       "      <td>2</td>\n",
       "      <td>2</td>\n",
       "      <td>2</td>\n",
       "      <td>2</td>\n",
       "    </tr>\n",
       "  </tbody>\n",
       "</table>\n",
       "</div>"
      ],
      "text/plain": [
       "                                            upc  Mod Drop Week  upc_nbr  \\\n",
       "category dept_subcategory_nbr fineline_nbr                                \n",
       "2        subcat_4             fl_ 17         23             23       23   \n",
       "                              fl_ 18         33             33       33   \n",
       "                              fl_ 19         15             15       15   \n",
       "                              fl_ 20          3              3        3   \n",
       "                              fl_ 21         15             15       15   \n",
       "         subcat_6             fl_ 14          2              2        2   \n",
       "\n",
       "                                            rollup_id  \n",
       "category dept_subcategory_nbr fineline_nbr             \n",
       "2        subcat_4             fl_ 17               23  \n",
       "                              fl_ 18               33  \n",
       "                              fl_ 19               15  \n",
       "                              fl_ 20                3  \n",
       "                              fl_ 21               15  \n",
       "         subcat_6             fl_ 14                2  "
      ]
     },
     "execution_count": 300,
     "metadata": {},
     "output_type": "execute_result"
    }
   ],
   "source": [
    "add_merge.groupby([\"category\",\"dept_subcategory_nbr\",\"fineline_nbr\"]).count()"
   ]
  },
  {
   "cell_type": "code",
   "execution_count": 301,
   "metadata": {},
   "outputs": [
    {
     "data": {
      "text/html": [
       "<div>\n",
       "<style scoped>\n",
       "    .dataframe tbody tr th:only-of-type {\n",
       "        vertical-align: middle;\n",
       "    }\n",
       "\n",
       "    .dataframe tbody tr th {\n",
       "        vertical-align: top;\n",
       "    }\n",
       "\n",
       "    .dataframe thead th {\n",
       "        text-align: right;\n",
       "    }\n",
       "</style>\n",
       "<table border=\"1\" class=\"dataframe\">\n",
       "  <thead>\n",
       "    <tr style=\"text-align: right;\">\n",
       "      <th></th>\n",
       "      <th></th>\n",
       "      <th></th>\n",
       "      <th>upc</th>\n",
       "      <th>Mod Drop Week</th>\n",
       "      <th>upc_nbr</th>\n",
       "      <th>rollup_id</th>\n",
       "    </tr>\n",
       "    <tr>\n",
       "      <th>category</th>\n",
       "      <th>dept_subcategory_nbr</th>\n",
       "      <th>fineline_nbr</th>\n",
       "      <th></th>\n",
       "      <th></th>\n",
       "      <th></th>\n",
       "      <th></th>\n",
       "    </tr>\n",
       "  </thead>\n",
       "  <tbody>\n",
       "    <tr>\n",
       "      <th rowspan=\"9\" valign=\"top\">2</th>\n",
       "      <th>subcat_4</th>\n",
       "      <th>fl_ 19</th>\n",
       "      <td>3</td>\n",
       "      <td>3</td>\n",
       "      <td>3</td>\n",
       "      <td>3</td>\n",
       "    </tr>\n",
       "    <tr>\n",
       "      <th rowspan=\"7\" valign=\"top\">subcat_6</th>\n",
       "      <th>fl_ 11</th>\n",
       "      <td>1</td>\n",
       "      <td>1</td>\n",
       "      <td>1</td>\n",
       "      <td>1</td>\n",
       "    </tr>\n",
       "    <tr>\n",
       "      <th>fl_ 12</th>\n",
       "      <td>1</td>\n",
       "      <td>1</td>\n",
       "      <td>1</td>\n",
       "      <td>1</td>\n",
       "    </tr>\n",
       "    <tr>\n",
       "      <th>fl_ 13</th>\n",
       "      <td>1</td>\n",
       "      <td>1</td>\n",
       "      <td>1</td>\n",
       "      <td>1</td>\n",
       "    </tr>\n",
       "    <tr>\n",
       "      <th>fl_ 14</th>\n",
       "      <td>1</td>\n",
       "      <td>1</td>\n",
       "      <td>1</td>\n",
       "      <td>1</td>\n",
       "    </tr>\n",
       "    <tr>\n",
       "      <th>fl_ 4</th>\n",
       "      <td>3</td>\n",
       "      <td>3</td>\n",
       "      <td>3</td>\n",
       "      <td>3</td>\n",
       "    </tr>\n",
       "    <tr>\n",
       "      <th>fl_ 8</th>\n",
       "      <td>6</td>\n",
       "      <td>6</td>\n",
       "      <td>6</td>\n",
       "      <td>6</td>\n",
       "    </tr>\n",
       "    <tr>\n",
       "      <th>fl_ 9</th>\n",
       "      <td>2</td>\n",
       "      <td>2</td>\n",
       "      <td>2</td>\n",
       "      <td>2</td>\n",
       "    </tr>\n",
       "    <tr>\n",
       "      <th>subcat_8</th>\n",
       "      <th>fl_ 6</th>\n",
       "      <td>4</td>\n",
       "      <td>4</td>\n",
       "      <td>4</td>\n",
       "      <td>4</td>\n",
       "    </tr>\n",
       "  </tbody>\n",
       "</table>\n",
       "</div>"
      ],
      "text/plain": [
       "                                            upc  Mod Drop Week  upc_nbr  \\\n",
       "category dept_subcategory_nbr fineline_nbr                                \n",
       "2        subcat_4             fl_ 19          3              3        3   \n",
       "         subcat_6             fl_ 11          1              1        1   \n",
       "                              fl_ 12          1              1        1   \n",
       "                              fl_ 13          1              1        1   \n",
       "                              fl_ 14          1              1        1   \n",
       "                              fl_ 4           3              3        3   \n",
       "                              fl_ 8           6              6        6   \n",
       "                              fl_ 9           2              2        2   \n",
       "         subcat_8             fl_ 6           4              4        4   \n",
       "\n",
       "                                            rollup_id  \n",
       "category dept_subcategory_nbr fineline_nbr             \n",
       "2        subcat_4             fl_ 19                3  \n",
       "         subcat_6             fl_ 11                1  \n",
       "                              fl_ 12                1  \n",
       "                              fl_ 13                1  \n",
       "                              fl_ 14                1  \n",
       "                              fl_ 4                 3  \n",
       "                              fl_ 8                 6  \n",
       "                              fl_ 9                 2  \n",
       "         subcat_8             fl_ 6                 4  "
      ]
     },
     "execution_count": 301,
     "metadata": {},
     "output_type": "execute_result"
    }
   ],
   "source": [
    "delete_merge.groupby([\"category\",\"dept_subcategory_nbr\",\"fineline_nbr\"]).count()"
   ]
  },
  {
   "cell_type": "code",
   "execution_count": 325,
   "metadata": {},
   "outputs": [
    {
     "data": {
      "text/plain": [
       "array(['subcat_4', 'subcat_6', 'subcat_8'], dtype=object)"
      ]
     },
     "execution_count": 325,
     "metadata": {},
     "output_type": "execute_result"
    }
   ],
   "source": [
    "df_add_delete_concat = pd.concat([add_ups_df,delete_ups_df])\n",
    "df_add_delete_concat_merge = df_add_delete_concat.merge(df_mpos_data[[\"upc_nbr\",\"dept_subcategory_nbr\",\"fineline_nbr\",\"rollup_id\"]].drop_duplicates(),left_on=\"upc\",right_on=\"upc_nbr\")\n",
    "df_add_delete_concat_merge.dept_subcategory_nbr.unique()\n",
    "#df_add_delete_concat_merge\n"
   ]
  },
  {
   "cell_type": "markdown",
   "metadata": {},
   "source": [
    "## Track households from provided SKUs"
   ]
  },
  {
   "cell_type": "code",
   "execution_count": 119,
   "metadata": {},
   "outputs": [
    {
     "name": "stdout",
     "output_type": "stream",
     "text": [
      "##########-----CATEGORY 1-------##########\n",
      "Unique household in category 1 are 195773\n",
      "452016 null householdId out of 839214. 53.861827853205504 % are null.\n",
      "\n",
      "##########-----CATEGORY 2-------##########\n",
      "Unique household in category 2 are 91291\n",
      "2295119 null householdId out of 2836411. 80.91630585271317 % are null.\n",
      "\n",
      "##########-----CATEGORY All-------##########\n",
      "Unique household in All categories are 287063\n",
      "2747135 null householdId out of 3675625. 74.73926203026696 % are null.\n"
     ]
    }
   ],
   "source": [
    "print('##########-----CATEGORY 1-------##########')\n",
    "print(f'Unique household in category 1 are {df_old[\"household_id\"].unique().size}')\n",
    "print(f'{df_old[\"household_id\"].isnull().sum()} null householdId out of {len(df_old)}. {(df_old[\"household_id\"].isnull().sum()/len(df_old))*100} % are null.')\n",
    "\n",
    "\n",
    "print('\\n##########-----CATEGORY 2-------##########')\n",
    "print(f'Unique household in category 2 are {df_new[\"household_id\"].unique().size}')\n",
    "print(f'{df_new[\"household_id\"].isnull().sum()} null householdId out of {len(df_new)}. {(df_new[\"household_id\"].isnull().sum()/len(df_new))*100} % are null.')\n",
    "\n",
    "print('\\n##########-----CATEGORY All-------##########')\n",
    "print(f'Unique household in All categories are {df_mpos_data[\"household_id\"].unique().size}')\n",
    "print(f'{df_mpos_data[\"household_id\"].isnull().sum()} null householdId out of {len(df_mpos_data)}. {(df_mpos_data[\"household_id\"].isnull().sum()/len(df_mpos_data))*100} % are null.')\n",
    "\n",
    "\n",
    "\n",
    "\n",
    "#df_new['household_id'].isnull().count()"
   ]
  },
  {
   "cell_type": "code",
   "execution_count": 120,
   "metadata": {},
   "outputs": [],
   "source": [
    "df_non_null_household_mpos_data = df_mpos_data.dropna(subset=[\"household_id\"])"
   ]
  },
  {
   "cell_type": "markdown",
   "metadata": {},
   "source": [
    "### find the rows from data which have householdId and have upc_numbers as provided in list."
   ]
  },
  {
   "cell_type": "code",
   "execution_count": 206,
   "metadata": {},
   "outputs": [],
   "source": [
    "add_merge_non_null = add_ups_df.merge(df_non_null_household_mpos_data[[\"upc_nbr\",\"dept_subcategory_nbr\",\"fineline_nbr\",\"brand_name\",\"household_id\"]].drop_duplicates(),left_on=\"upc_add\",right_on=\"upc_nbr\")\n",
    "delete_merge_non_null = delete_ups_df.merge(df_non_null_household_mpos_data[[\"upc_nbr\",\"dept_subcategory_nbr\",\"fineline_nbr\",\"brand_name\",\"household_id\"]].drop_duplicates(),left_on=\"upc_delete\",right_on=\"upc_nbr\")"
   ]
  },
  {
   "cell_type": "code",
   "execution_count": 207,
   "metadata": {},
   "outputs": [],
   "source": [
    "household_id_from_add = add_merge_non_null.household_id.unique()\n",
    "household_id_from_delete = delete_merge_non_null.household_id.unique()"
   ]
  },
  {
   "cell_type": "code",
   "execution_count": 208,
   "metadata": {},
   "outputs": [
    {
     "name": "stdout",
     "output_type": "stream",
     "text": [
      "Unique target households count 6238\n"
     ]
    }
   ],
   "source": [
    "target_household_ids = np.union1d(household_id_from_add,household_id_from_delete)\n",
    "print(f'Unique target households count {target_household_ids.size}')"
   ]
  },
  {
   "cell_type": "code",
   "execution_count": 209,
   "metadata": {},
   "outputs": [],
   "source": [
    "df_non_null_household_mpos_target_data = df_non_null_household_mpos_data[df_non_null_household_mpos_data[\"household_id\"].isin(target_household_ids)]"
   ]
  },
  {
   "cell_type": "code",
   "execution_count": 210,
   "metadata": {},
   "outputs": [
    {
     "data": {
      "text/plain": [
       "96974"
      ]
     },
     "execution_count": 210,
     "metadata": {},
     "output_type": "execute_result"
    }
   ],
   "source": [
    "len(df_non_null_household_mpos_target_data)"
   ]
  },
  {
   "cell_type": "code",
   "execution_count": 239,
   "metadata": {},
   "outputs": [
    {
     "data": {
      "text/plain": [
       "transactions_done\n",
       "1       610\n",
       "2       598\n",
       "3       547\n",
       "4       428\n",
       "5       442\n",
       "6       371\n",
       "7       336\n",
       "8       278\n",
       "9       228\n",
       "10      200\n",
       "11      165\n",
       "12      141\n",
       "13      121\n",
       "14      127\n",
       "15      116\n",
       "16      104\n",
       "17       86\n",
       "18       87\n",
       "19       80\n",
       "20       83\n",
       "21       59\n",
       "22       51\n",
       "23       58\n",
       "24       39\n",
       "25       50\n",
       "26       45\n",
       "27       46\n",
       "28       45\n",
       "29       34\n",
       "30       36\n",
       "       ... \n",
       "243       1\n",
       "244       1\n",
       "247       1\n",
       "252       1\n",
       "255       1\n",
       "257       2\n",
       "266       1\n",
       "274       1\n",
       "275       1\n",
       "297       1\n",
       "304       1\n",
       "311       1\n",
       "312       1\n",
       "315       1\n",
       "320       1\n",
       "324       1\n",
       "344       1\n",
       "347       1\n",
       "352       1\n",
       "399       1\n",
       "434       1\n",
       "435       1\n",
       "472       1\n",
       "502       1\n",
       "503       1\n",
       "600       1\n",
       "672       1\n",
       "772       1\n",
       "903       1\n",
       "2095      1\n",
       "Length: 186, dtype: int64"
      ]
     },
     "execution_count": 239,
     "metadata": {},
     "output_type": "execute_result"
    }
   ],
   "source": [
    "transaction_count_per_household = df_non_null_household_mpos_target_data.groupby(\"household_id\").size().sort_values()\n",
    "pd.DataFrame(transaction_count_per_household,columns=[\"transactions_done\"]).groupby(\"transactions_done\").size()"
   ]
  },
  {
   "cell_type": "code",
   "execution_count": 238,
   "metadata": {},
   "outputs": [
    {
     "data": {
      "text/html": [
       "<div>\n",
       "<style scoped>\n",
       "    .dataframe tbody tr th:only-of-type {\n",
       "        vertical-align: middle;\n",
       "    }\n",
       "\n",
       "    .dataframe tbody tr th {\n",
       "        vertical-align: top;\n",
       "    }\n",
       "\n",
       "    .dataframe thead th {\n",
       "        text-align: right;\n",
       "    }\n",
       "</style>\n",
       "<table border=\"1\" class=\"dataframe\">\n",
       "  <thead>\n",
       "    <tr style=\"text-align: right;\">\n",
       "      <th></th>\n",
       "      <th>transactions_done</th>\n",
       "    </tr>\n",
       "    <tr>\n",
       "      <th>household_id</th>\n",
       "      <th></th>\n",
       "    </tr>\n",
       "  </thead>\n",
       "  <tbody>\n",
       "    <tr>\n",
       "      <th>hh_49882</th>\n",
       "      <td>1</td>\n",
       "    </tr>\n",
       "    <tr>\n",
       "      <th>hh_16884</th>\n",
       "      <td>1</td>\n",
       "    </tr>\n",
       "    <tr>\n",
       "      <th>hh_38857</th>\n",
       "      <td>1</td>\n",
       "    </tr>\n",
       "    <tr>\n",
       "      <th>hh_3877</th>\n",
       "      <td>1</td>\n",
       "    </tr>\n",
       "    <tr>\n",
       "      <th>hh_38729</th>\n",
       "      <td>1</td>\n",
       "    </tr>\n",
       "    <tr>\n",
       "      <th>hh_17003</th>\n",
       "      <td>1</td>\n",
       "    </tr>\n",
       "    <tr>\n",
       "      <th>hh_72133</th>\n",
       "      <td>1</td>\n",
       "    </tr>\n",
       "    <tr>\n",
       "      <th>hh_86113</th>\n",
       "      <td>1</td>\n",
       "    </tr>\n",
       "    <tr>\n",
       "      <th>hh_38665</th>\n",
       "      <td>1</td>\n",
       "    </tr>\n",
       "    <tr>\n",
       "      <th>hh_86105</th>\n",
       "      <td>1</td>\n",
       "    </tr>\n",
       "    <tr>\n",
       "      <th>hh_1687</th>\n",
       "      <td>1</td>\n",
       "    </tr>\n",
       "    <tr>\n",
       "      <th>hh_72424</th>\n",
       "      <td>1</td>\n",
       "    </tr>\n",
       "    <tr>\n",
       "      <th>hh_72525</th>\n",
       "      <td>1</td>\n",
       "    </tr>\n",
       "    <tr>\n",
       "      <th>hh_3833</th>\n",
       "      <td>1</td>\n",
       "    </tr>\n",
       "    <tr>\n",
       "      <th>hh_38278</th>\n",
       "      <td>1</td>\n",
       "    </tr>\n",
       "    <tr>\n",
       "      <th>hh_38135</th>\n",
       "      <td>1</td>\n",
       "    </tr>\n",
       "    <tr>\n",
       "      <th>hh_72654</th>\n",
       "      <td>1</td>\n",
       "    </tr>\n",
       "    <tr>\n",
       "      <th>hh_38075</th>\n",
       "      <td>1</td>\n",
       "    </tr>\n",
       "    <tr>\n",
       "      <th>hh_3800</th>\n",
       "      <td>1</td>\n",
       "    </tr>\n",
       "    <tr>\n",
       "      <th>hh_17548</th>\n",
       "      <td>1</td>\n",
       "    </tr>\n",
       "    <tr>\n",
       "      <th>hh_17583</th>\n",
       "      <td>1</td>\n",
       "    </tr>\n",
       "    <tr>\n",
       "      <th>hh_17326</th>\n",
       "      <td>1</td>\n",
       "    </tr>\n",
       "    <tr>\n",
       "      <th>hh_72952</th>\n",
       "      <td>1</td>\n",
       "    </tr>\n",
       "    <tr>\n",
       "      <th>hh_86194</th>\n",
       "      <td>1</td>\n",
       "    </tr>\n",
       "    <tr>\n",
       "      <th>hh_16717</th>\n",
       "      <td>1</td>\n",
       "    </tr>\n",
       "    <tr>\n",
       "      <th>hh_40812</th>\n",
       "      <td>1</td>\n",
       "    </tr>\n",
       "    <tr>\n",
       "      <th>hh_40769</th>\n",
       "      <td>1</td>\n",
       "    </tr>\n",
       "    <tr>\n",
       "      <th>hh_70820</th>\n",
       "      <td>1</td>\n",
       "    </tr>\n",
       "    <tr>\n",
       "      <th>hh_70993</th>\n",
       "      <td>1</td>\n",
       "    </tr>\n",
       "    <tr>\n",
       "      <th>hh_40137</th>\n",
       "      <td>1</td>\n",
       "    </tr>\n",
       "    <tr>\n",
       "      <th>...</th>\n",
       "      <td>...</td>\n",
       "    </tr>\n",
       "    <tr>\n",
       "      <th>hh_82409</th>\n",
       "      <td>244</td>\n",
       "    </tr>\n",
       "    <tr>\n",
       "      <th>hh_61573</th>\n",
       "      <td>247</td>\n",
       "    </tr>\n",
       "    <tr>\n",
       "      <th>hh_78181</th>\n",
       "      <td>252</td>\n",
       "    </tr>\n",
       "    <tr>\n",
       "      <th>hh_31071</th>\n",
       "      <td>255</td>\n",
       "    </tr>\n",
       "    <tr>\n",
       "      <th>hh_67457</th>\n",
       "      <td>257</td>\n",
       "    </tr>\n",
       "    <tr>\n",
       "      <th>hh_4809</th>\n",
       "      <td>257</td>\n",
       "    </tr>\n",
       "    <tr>\n",
       "      <th>hh_28319</th>\n",
       "      <td>266</td>\n",
       "    </tr>\n",
       "    <tr>\n",
       "      <th>hh_46234</th>\n",
       "      <td>274</td>\n",
       "    </tr>\n",
       "    <tr>\n",
       "      <th>hh_27152</th>\n",
       "      <td>275</td>\n",
       "    </tr>\n",
       "    <tr>\n",
       "      <th>hh_86690</th>\n",
       "      <td>297</td>\n",
       "    </tr>\n",
       "    <tr>\n",
       "      <th>hh_40727</th>\n",
       "      <td>304</td>\n",
       "    </tr>\n",
       "    <tr>\n",
       "      <th>hh_87352</th>\n",
       "      <td>311</td>\n",
       "    </tr>\n",
       "    <tr>\n",
       "      <th>hh_52239</th>\n",
       "      <td>312</td>\n",
       "    </tr>\n",
       "    <tr>\n",
       "      <th>hh_14308</th>\n",
       "      <td>315</td>\n",
       "    </tr>\n",
       "    <tr>\n",
       "      <th>hh_82398</th>\n",
       "      <td>320</td>\n",
       "    </tr>\n",
       "    <tr>\n",
       "      <th>hh_12564</th>\n",
       "      <td>324</td>\n",
       "    </tr>\n",
       "    <tr>\n",
       "      <th>hh_60271</th>\n",
       "      <td>344</td>\n",
       "    </tr>\n",
       "    <tr>\n",
       "      <th>hh_81232</th>\n",
       "      <td>347</td>\n",
       "    </tr>\n",
       "    <tr>\n",
       "      <th>hh_79821</th>\n",
       "      <td>352</td>\n",
       "    </tr>\n",
       "    <tr>\n",
       "      <th>hh_19531</th>\n",
       "      <td>399</td>\n",
       "    </tr>\n",
       "    <tr>\n",
       "      <th>hh_34209</th>\n",
       "      <td>434</td>\n",
       "    </tr>\n",
       "    <tr>\n",
       "      <th>hh_73490</th>\n",
       "      <td>435</td>\n",
       "    </tr>\n",
       "    <tr>\n",
       "      <th>hh_60955</th>\n",
       "      <td>472</td>\n",
       "    </tr>\n",
       "    <tr>\n",
       "      <th>hh_11860</th>\n",
       "      <td>502</td>\n",
       "    </tr>\n",
       "    <tr>\n",
       "      <th>hh_70418</th>\n",
       "      <td>503</td>\n",
       "    </tr>\n",
       "    <tr>\n",
       "      <th>hh_31437</th>\n",
       "      <td>600</td>\n",
       "    </tr>\n",
       "    <tr>\n",
       "      <th>hh_81128</th>\n",
       "      <td>672</td>\n",
       "    </tr>\n",
       "    <tr>\n",
       "      <th>hh_75391</th>\n",
       "      <td>772</td>\n",
       "    </tr>\n",
       "    <tr>\n",
       "      <th>hh_36348</th>\n",
       "      <td>903</td>\n",
       "    </tr>\n",
       "    <tr>\n",
       "      <th>hh_7753</th>\n",
       "      <td>2095</td>\n",
       "    </tr>\n",
       "  </tbody>\n",
       "</table>\n",
       "<p>6238 rows × 1 columns</p>\n",
       "</div>"
      ],
      "text/plain": [
       "              transactions_done\n",
       "household_id                   \n",
       "hh_49882                      1\n",
       "hh_16884                      1\n",
       "hh_38857                      1\n",
       "hh_3877                       1\n",
       "hh_38729                      1\n",
       "hh_17003                      1\n",
       "hh_72133                      1\n",
       "hh_86113                      1\n",
       "hh_38665                      1\n",
       "hh_86105                      1\n",
       "hh_1687                       1\n",
       "hh_72424                      1\n",
       "hh_72525                      1\n",
       "hh_3833                       1\n",
       "hh_38278                      1\n",
       "hh_38135                      1\n",
       "hh_72654                      1\n",
       "hh_38075                      1\n",
       "hh_3800                       1\n",
       "hh_17548                      1\n",
       "hh_17583                      1\n",
       "hh_17326                      1\n",
       "hh_72952                      1\n",
       "hh_86194                      1\n",
       "hh_16717                      1\n",
       "hh_40812                      1\n",
       "hh_40769                      1\n",
       "hh_70820                      1\n",
       "hh_70993                      1\n",
       "hh_40137                      1\n",
       "...                         ...\n",
       "hh_82409                    244\n",
       "hh_61573                    247\n",
       "hh_78181                    252\n",
       "hh_31071                    255\n",
       "hh_67457                    257\n",
       "hh_4809                     257\n",
       "hh_28319                    266\n",
       "hh_46234                    274\n",
       "hh_27152                    275\n",
       "hh_86690                    297\n",
       "hh_40727                    304\n",
       "hh_87352                    311\n",
       "hh_52239                    312\n",
       "hh_14308                    315\n",
       "hh_82398                    320\n",
       "hh_12564                    324\n",
       "hh_60271                    344\n",
       "hh_81232                    347\n",
       "hh_79821                    352\n",
       "hh_19531                    399\n",
       "hh_34209                    434\n",
       "hh_73490                    435\n",
       "hh_60955                    472\n",
       "hh_11860                    502\n",
       "hh_70418                    503\n",
       "hh_31437                    600\n",
       "hh_81128                    672\n",
       "hh_75391                    772\n",
       "hh_36348                    903\n",
       "hh_7753                    2095\n",
       "\n",
       "[6238 rows x 1 columns]"
      ]
     },
     "execution_count": 238,
     "metadata": {},
     "output_type": "execute_result"
    }
   ],
   "source": []
  },
  {
   "cell_type": "code",
   "execution_count": null,
   "metadata": {},
   "outputs": [],
   "source": []
  }
 ],
 "metadata": {
  "kernelspec": {
   "display_name": "Python 3",
   "language": "python",
   "name": "python3"
  },
  "language_info": {
   "codemirror_mode": {
    "name": "ipython",
    "version": 3
   },
   "file_extension": ".py",
   "mimetype": "text/x-python",
   "name": "python",
   "nbconvert_exporter": "python",
   "pygments_lexer": "ipython3",
   "version": "3.6.4"
  }
 },
 "nbformat": 4,
 "nbformat_minor": 2
}
